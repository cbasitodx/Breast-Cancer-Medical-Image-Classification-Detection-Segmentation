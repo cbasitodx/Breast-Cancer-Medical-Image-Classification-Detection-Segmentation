{
 "cells": [
  {
   "cell_type": "markdown",
   "metadata": {},
   "source": [
    "IMPORT"
   ]
  },
  {
   "cell_type": "code",
   "execution_count": 6,
   "metadata": {},
   "outputs": [],
   "source": [
    "import pandas as pd\n",
    "from matplotlib import pyplot as plt\n",
    "import numpy as np\n",
    "# Neural net\n",
    "import torch\n",
    "import torch.nn as nn # neural network\n",
    "import torch.utils.data\n",
    "import torchvision\n",
    "import torchvision.transforms as transforms\n",
    "import os\n",
    "#image visualization\n",
    "import cv2\n",
    "#Custom models\n",
    "import models.ResNet as ResNet\n"
   ]
  },
  {
   "cell_type": "code",
   "execution_count": 7,
   "metadata": {},
   "outputs": [
    {
     "name": "stdout",
     "output_type": "stream",
     "text": [
      "cuda\n"
     ]
    }
   ],
   "source": [
    "#Hyperparametros\n",
    "BATCH_SIZE : int = 256\n",
    "LEARNING_RATE : float = 0.1\n",
    "WEIGHT_DECAY : float = 0.0001\n",
    "MOMENTUM : float = 0.9\n",
    "\n",
    "device : str = \"cuda\" if torch.cuda.is_available() else \"cpu\"\n",
    "print(device)"
   ]
  },
  {
   "cell_type": "code",
   "execution_count": 8,
   "metadata": {},
   "outputs": [
    {
     "name": "stdout",
     "output_type": "stream",
     "text": [
      "torch.Size([4, 2])\n"
     ]
    }
   ],
   "source": [
    "\n",
    "_TEMP_BATCH_SIZE : int = 4\n",
    "_CLASSIFICATON_CLASSES_AMMNT : int = 2 # cancer y no cancer\n",
    "_IMG_CHANNELS_AMMNT : int = 1 \n",
    "\n",
    "\n",
    "resnet50 : ResNet.ResNet50 = ResNet.ResNet50(img_channels = _IMG_CHANNELS_AMMNT, num_classes = _CLASSIFICATON_CLASSES_AMMNT) # black+white -> 1 chanell y cancer si/no -> dos clases\n",
    "resnet101 : ResNet.ResNet101 = ResNet.ResNet101(img_channels=_IMG_CHANNELS_AMMNT, num_classes=_CLASSIFICATON_CLASSES_AMMNT)\n",
    "resnet50 = resnet50.to(device)\n",
    "\n",
    "# Test input para que no haya errores luego\n",
    "x : torch.tensor = torch.randn(_TEMP_BATCH_SIZE, _IMG_CHANNELS_AMMNT, 224, 224, device = device)\n",
    "y : torch.tensor = resnet50(x)\n",
    "\n",
    "\n",
    "assert y.shape == torch.Size([_TEMP_BATCH_SIZE, 2])\n",
    "\n",
    "print(y.shape)\n",
    "\n"
   ]
  },
  {
   "cell_type": "code",
   "execution_count": 9,
   "metadata": {},
   "outputs": [],
   "source": [
    "# Define initial transformation to make image black and white (rgb is unnecesary as it is artificial)\n",
    "initial_transform : transforms.Compose = transforms.Compose([\n",
    "    transforms.ToTensor(), # make image a torch tensor\n",
    "    transforms.Resize((244,244)), # make image size 244,244\n",
    "    transforms.Grayscale(num_output_channels=1) # make image grayscale\n",
    "])"
   ]
  }
 ],
 "metadata": {
  "kernelspec": {
   "display_name": "Python 3",
   "language": "python",
   "name": "python3"
  },
  "language_info": {
   "codemirror_mode": {
    "name": "ipython",
    "version": 3
   },
   "file_extension": ".py",
   "mimetype": "text/x-python",
   "name": "python",
   "nbconvert_exporter": "python",
   "pygments_lexer": "ipython3",
   "version": "3.10.11"
  }
 },
 "nbformat": 4,
 "nbformat_minor": 2
}
