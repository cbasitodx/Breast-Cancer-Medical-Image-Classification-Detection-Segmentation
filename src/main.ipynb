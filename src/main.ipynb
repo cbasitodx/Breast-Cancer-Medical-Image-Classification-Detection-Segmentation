{
 "cells": [
  {
   "cell_type": "markdown",
   "metadata": {},
   "source": [
    "# Classification, Segmentation and Detection of tumors in mammography medical images (mejorar)\n",
    "\n",
    "## Authors:\n",
    "- **Sebastián Kay Conde Lorenzo (correo aquí)**\n",
    "- **Jaime Capdepon Fraile (correo aquí)**\n",
    "- **Joaquín Negrete Saab (correo aquí)**\n",
    "- **Yang Liu (correo aquí)**\n",
    "- **Christian Most Tazon (correo aquí)**\n",
    "  \n",
    "## Summary:\n",
    "aquí una descripción\n",
    "\n",
    "---\n",
    "\n"
   ]
  },
  {
   "cell_type": "markdown",
   "metadata": {},
   "source": [
    "## Imports"
   ]
  },
  {
   "cell_type": "code",
   "execution_count": 1,
   "metadata": {},
   "outputs": [],
   "source": [
    "# Third library imports\n",
    "import typing\n",
    "import numpy as np\n",
    "import cv2 as cv\n",
    "import torch\n",
    "import torch.nn as nn\n",
    "import torchvision.transforms as transforms\n",
    "import os\n",
    "\n",
    "\n",
    "# Custom imports\n",
    "import dir_manager\n",
    "import viewer\n",
    "import models"
   ]
  },
  {
   "cell_type": "markdown",
   "metadata": {},
   "source": [
    "## Data download\n",
    "\n",
    "TODO: Aquí deberíamos poner que los datos se descarguen de una API o bien se saquen de una BBDD (a discutir)"
   ]
  },
  {
   "cell_type": "code",
   "execution_count": 2,
   "metadata": {},
   "outputs": [],
   "source": [
    "#"
   ]
  },
  {
   "cell_type": "markdown",
   "metadata": {},
   "source": [
    "## Directory tree creation"
   ]
  },
  {
   "cell_type": "code",
   "execution_count": 3,
   "metadata": {},
   "outputs": [],
   "source": [
    "#manager = dir_manager.DirectoryManager(\"../dataset\")\n",
    "#manager.manage_directories()"
   ]
  },
  {
   "cell_type": "markdown",
   "metadata": {},
   "source": [
    "## Dataset visualization"
   ]
  },
  {
   "cell_type": "markdown",
   "metadata": {},
   "source": [
    "TODO: EL SINGLE VIEWER DEBERIA TOMAR UNA RUTA A UN DIRECTORIO\n",
    "\n",
    "TODO: EL SINGLE VIEWER TIENE QUE ACEPTAR LA IMAGEN CON FORMATO (.jpg) NO ASUMIRLO (ASI ES MENOS TEDIOSO)"
   ]
  },
  {
   "cell_type": "code",
   "execution_count": 4,
   "metadata": {},
   "outputs": [],
   "source": [
    "single_viewer = viewer.SingleViewer(file_name=\"0_DBT-P00013_36_png.rf.ac6715e066245d20fac35a0033c2cdcb\", dataset=\"train\", title=\"Single Visualization\")\n",
    "#single_viewer.plot_img()\n",
    "#single_viewer.plot_bounding_box()"
   ]
  },
  {
   "cell_type": "code",
   "execution_count": 5,
   "metadata": {},
   "outputs": [],
   "source": [
    "all_train_images_filenames : list[str] = os.listdir(\"../dataset/train/images\")\n",
    "all_train_images_filenames = [name[:-4] for name in all_train_images_filenames] # Para eliminar el \".jpg\""
   ]
  },
  {
   "cell_type": "code",
   "execution_count": 6,
   "metadata": {},
   "outputs": [],
   "source": [
    "# Visualizacion de 10 imagenes aleatorias\n",
    "batch_viewer = viewer.BatchViewer(file_names=all_train_images_filenames[:10],\n",
    "                                  dataset=\"train\",\n",
    "                                  titles=[\"Batch Visualization\"]*len(all_train_images_filenames[:10]))\n",
    "#batch_viewer.plot_imgs()\n",
    "#batch_viewer.plot_bounding_boxes()"
   ]
  },
  {
   "cell_type": "markdown",
   "metadata": {},
   "source": [
    "nota: el tamano de las imagenes es de 640"
   ]
  },
  {
   "cell_type": "markdown",
   "metadata": {},
   "source": [
    "## Model Creation"
   ]
  },
  {
   "cell_type": "code",
   "execution_count": 7,
   "metadata": {},
   "outputs": [],
   "source": [
    "resnet50 : models.ClassificationModel = models.ClassificationModel(1, 2, [3,4,6,3]) "
   ]
  },
  {
   "cell_type": "code",
   "execution_count": 8,
   "metadata": {},
   "outputs": [
    {
     "data": {
      "text/plain": [
       "ClassificationModel(\n",
       "  (conv1_layer): Sequential(\n",
       "    (conv1_1): Conv2d(1, 64, kernel_size=(7, 7), stride=(2, 2), padding=(3, 3))\n",
       "    (batchnorm1_1): BatchNorm2d(64, eps=1e-05, momentum=0.1, affine=True, track_running_stats=True)\n",
       "    (ReLU1): ReLU()\n",
       "    (maxpool1): MaxPool2d(kernel_size=3, stride=2, padding=1, dilation=1, ceil_mode=False)\n",
       "  )\n",
       "  (conv2_layer): Sequential(\n",
       "    (block2_1): ResNetBlock(\n",
       "      (block): Sequential(\n",
       "        (conv2_1): Conv2d(64, 64, kernel_size=(1, 1), stride=(1, 1))\n",
       "        (batchnorm2_1): BatchNorm2d(64, eps=1e-05, momentum=0.1, affine=True, track_running_stats=True)\n",
       "        (conv2_2): Conv2d(64, 64, kernel_size=(3, 3), stride=(1, 1), padding=(1, 1))\n",
       "        (batchnorm2_2): BatchNorm2d(64, eps=1e-05, momentum=0.1, affine=True, track_running_stats=True)\n",
       "        (conv2_3): Conv2d(64, 256, kernel_size=(1, 1), stride=(1, 1))\n",
       "        (batchnorm2_3): BatchNorm2d(256, eps=1e-05, momentum=0.1, affine=True, track_running_stats=True)\n",
       "      )\n",
       "      (relu): ReLU()\n",
       "      (identity_channel_scaling): Sequential(\n",
       "        (conv_scaling2): Conv2d(64, 256, kernel_size=(1, 1), stride=(1, 1), bias=False)\n",
       "        (batchnorm_scaling2): BatchNorm2d(256, eps=1e-05, momentum=0.1, affine=True, track_running_stats=True)\n",
       "      )\n",
       "    )\n",
       "    (block2_2): ResNetBlock(\n",
       "      (block): Sequential(\n",
       "        (conv2_1): Conv2d(256, 64, kernel_size=(1, 1), stride=(1, 1))\n",
       "        (batchnorm2_1): BatchNorm2d(64, eps=1e-05, momentum=0.1, affine=True, track_running_stats=True)\n",
       "        (conv2_2): Conv2d(64, 64, kernel_size=(3, 3), stride=(1, 1), padding=(1, 1))\n",
       "        (batchnorm2_2): BatchNorm2d(64, eps=1e-05, momentum=0.1, affine=True, track_running_stats=True)\n",
       "        (conv2_3): Conv2d(64, 256, kernel_size=(1, 1), stride=(1, 1))\n",
       "        (batchnorm2_3): BatchNorm2d(256, eps=1e-05, momentum=0.1, affine=True, track_running_stats=True)\n",
       "      )\n",
       "      (relu): ReLU()\n",
       "    )\n",
       "    (block2_3): ResNetBlock(\n",
       "      (block): Sequential(\n",
       "        (conv2_1): Conv2d(256, 64, kernel_size=(1, 1), stride=(1, 1))\n",
       "        (batchnorm2_1): BatchNorm2d(64, eps=1e-05, momentum=0.1, affine=True, track_running_stats=True)\n",
       "        (conv2_2): Conv2d(64, 64, kernel_size=(3, 3), stride=(1, 1), padding=(1, 1))\n",
       "        (batchnorm2_2): BatchNorm2d(64, eps=1e-05, momentum=0.1, affine=True, track_running_stats=True)\n",
       "        (conv2_3): Conv2d(64, 256, kernel_size=(1, 1), stride=(1, 1))\n",
       "        (batchnorm2_3): BatchNorm2d(256, eps=1e-05, momentum=0.1, affine=True, track_running_stats=True)\n",
       "      )\n",
       "      (relu): ReLU()\n",
       "    )\n",
       "  )\n",
       "  (conv3_layer): Sequential(\n",
       "    (block3_1): ResNetBlock(\n",
       "      (block): Sequential(\n",
       "        (conv3_1): Conv2d(256, 128, kernel_size=(1, 1), stride=(1, 1))\n",
       "        (batchnorm3_1): BatchNorm2d(128, eps=1e-05, momentum=0.1, affine=True, track_running_stats=True)\n",
       "        (conv3_2): Conv2d(128, 128, kernel_size=(3, 3), stride=(2, 2), padding=(1, 1))\n",
       "        (batchnorm3_2): BatchNorm2d(128, eps=1e-05, momentum=0.1, affine=True, track_running_stats=True)\n",
       "        (conv3_3): Conv2d(128, 512, kernel_size=(1, 1), stride=(1, 1))\n",
       "        (batchnorm3_3): BatchNorm2d(512, eps=1e-05, momentum=0.1, affine=True, track_running_stats=True)\n",
       "      )\n",
       "      (relu): ReLU()\n",
       "      (identity_channel_scaling): Sequential(\n",
       "        (conv_scaling3): Conv2d(256, 512, kernel_size=(1, 1), stride=(2, 2), bias=False)\n",
       "        (batchnorm_scaling3): BatchNorm2d(512, eps=1e-05, momentum=0.1, affine=True, track_running_stats=True)\n",
       "      )\n",
       "    )\n",
       "    (block3_2): ResNetBlock(\n",
       "      (block): Sequential(\n",
       "        (conv3_1): Conv2d(512, 128, kernel_size=(1, 1), stride=(1, 1))\n",
       "        (batchnorm3_1): BatchNorm2d(128, eps=1e-05, momentum=0.1, affine=True, track_running_stats=True)\n",
       "        (conv3_2): Conv2d(128, 128, kernel_size=(3, 3), stride=(1, 1), padding=(1, 1))\n",
       "        (batchnorm3_2): BatchNorm2d(128, eps=1e-05, momentum=0.1, affine=True, track_running_stats=True)\n",
       "        (conv3_3): Conv2d(128, 512, kernel_size=(1, 1), stride=(1, 1))\n",
       "        (batchnorm3_3): BatchNorm2d(512, eps=1e-05, momentum=0.1, affine=True, track_running_stats=True)\n",
       "      )\n",
       "      (relu): ReLU()\n",
       "    )\n",
       "    (block3_3): ResNetBlock(\n",
       "      (block): Sequential(\n",
       "        (conv3_1): Conv2d(512, 128, kernel_size=(1, 1), stride=(1, 1))\n",
       "        (batchnorm3_1): BatchNorm2d(128, eps=1e-05, momentum=0.1, affine=True, track_running_stats=True)\n",
       "        (conv3_2): Conv2d(128, 128, kernel_size=(3, 3), stride=(1, 1), padding=(1, 1))\n",
       "        (batchnorm3_2): BatchNorm2d(128, eps=1e-05, momentum=0.1, affine=True, track_running_stats=True)\n",
       "        (conv3_3): Conv2d(128, 512, kernel_size=(1, 1), stride=(1, 1))\n",
       "        (batchnorm3_3): BatchNorm2d(512, eps=1e-05, momentum=0.1, affine=True, track_running_stats=True)\n",
       "      )\n",
       "      (relu): ReLU()\n",
       "    )\n",
       "    (block3_4): ResNetBlock(\n",
       "      (block): Sequential(\n",
       "        (conv3_1): Conv2d(512, 128, kernel_size=(1, 1), stride=(1, 1))\n",
       "        (batchnorm3_1): BatchNorm2d(128, eps=1e-05, momentum=0.1, affine=True, track_running_stats=True)\n",
       "        (conv3_2): Conv2d(128, 128, kernel_size=(3, 3), stride=(1, 1), padding=(1, 1))\n",
       "        (batchnorm3_2): BatchNorm2d(128, eps=1e-05, momentum=0.1, affine=True, track_running_stats=True)\n",
       "        (conv3_3): Conv2d(128, 512, kernel_size=(1, 1), stride=(1, 1))\n",
       "        (batchnorm3_3): BatchNorm2d(512, eps=1e-05, momentum=0.1, affine=True, track_running_stats=True)\n",
       "      )\n",
       "      (relu): ReLU()\n",
       "    )\n",
       "  )\n",
       "  (conv4_layer): Sequential(\n",
       "    (block4_1): ResNetBlock(\n",
       "      (block): Sequential(\n",
       "        (conv4_1): Conv2d(512, 256, kernel_size=(1, 1), stride=(1, 1))\n",
       "        (batchnorm4_1): BatchNorm2d(256, eps=1e-05, momentum=0.1, affine=True, track_running_stats=True)\n",
       "        (conv4_2): Conv2d(256, 256, kernel_size=(3, 3), stride=(2, 2), padding=(1, 1))\n",
       "        (batchnorm4_2): BatchNorm2d(256, eps=1e-05, momentum=0.1, affine=True, track_running_stats=True)\n",
       "        (conv4_3): Conv2d(256, 1024, kernel_size=(1, 1), stride=(1, 1))\n",
       "        (batchnorm4_3): BatchNorm2d(1024, eps=1e-05, momentum=0.1, affine=True, track_running_stats=True)\n",
       "      )\n",
       "      (relu): ReLU()\n",
       "      (identity_channel_scaling): Sequential(\n",
       "        (conv_scaling4): Conv2d(512, 1024, kernel_size=(1, 1), stride=(2, 2), bias=False)\n",
       "        (batchnorm_scaling4): BatchNorm2d(1024, eps=1e-05, momentum=0.1, affine=True, track_running_stats=True)\n",
       "      )\n",
       "    )\n",
       "    (block4_2): ResNetBlock(\n",
       "      (block): Sequential(\n",
       "        (conv4_1): Conv2d(1024, 256, kernel_size=(1, 1), stride=(1, 1))\n",
       "        (batchnorm4_1): BatchNorm2d(256, eps=1e-05, momentum=0.1, affine=True, track_running_stats=True)\n",
       "        (conv4_2): Conv2d(256, 256, kernel_size=(3, 3), stride=(1, 1), padding=(1, 1))\n",
       "        (batchnorm4_2): BatchNorm2d(256, eps=1e-05, momentum=0.1, affine=True, track_running_stats=True)\n",
       "        (conv4_3): Conv2d(256, 1024, kernel_size=(1, 1), stride=(1, 1))\n",
       "        (batchnorm4_3): BatchNorm2d(1024, eps=1e-05, momentum=0.1, affine=True, track_running_stats=True)\n",
       "      )\n",
       "      (relu): ReLU()\n",
       "    )\n",
       "    (block4_3): ResNetBlock(\n",
       "      (block): Sequential(\n",
       "        (conv4_1): Conv2d(1024, 256, kernel_size=(1, 1), stride=(1, 1))\n",
       "        (batchnorm4_1): BatchNorm2d(256, eps=1e-05, momentum=0.1, affine=True, track_running_stats=True)\n",
       "        (conv4_2): Conv2d(256, 256, kernel_size=(3, 3), stride=(1, 1), padding=(1, 1))\n",
       "        (batchnorm4_2): BatchNorm2d(256, eps=1e-05, momentum=0.1, affine=True, track_running_stats=True)\n",
       "        (conv4_3): Conv2d(256, 1024, kernel_size=(1, 1), stride=(1, 1))\n",
       "        (batchnorm4_3): BatchNorm2d(1024, eps=1e-05, momentum=0.1, affine=True, track_running_stats=True)\n",
       "      )\n",
       "      (relu): ReLU()\n",
       "    )\n",
       "    (block4_4): ResNetBlock(\n",
       "      (block): Sequential(\n",
       "        (conv4_1): Conv2d(1024, 256, kernel_size=(1, 1), stride=(1, 1))\n",
       "        (batchnorm4_1): BatchNorm2d(256, eps=1e-05, momentum=0.1, affine=True, track_running_stats=True)\n",
       "        (conv4_2): Conv2d(256, 256, kernel_size=(3, 3), stride=(1, 1), padding=(1, 1))\n",
       "        (batchnorm4_2): BatchNorm2d(256, eps=1e-05, momentum=0.1, affine=True, track_running_stats=True)\n",
       "        (conv4_3): Conv2d(256, 1024, kernel_size=(1, 1), stride=(1, 1))\n",
       "        (batchnorm4_3): BatchNorm2d(1024, eps=1e-05, momentum=0.1, affine=True, track_running_stats=True)\n",
       "      )\n",
       "      (relu): ReLU()\n",
       "    )\n",
       "    (block4_5): ResNetBlock(\n",
       "      (block): Sequential(\n",
       "        (conv4_1): Conv2d(1024, 256, kernel_size=(1, 1), stride=(1, 1))\n",
       "        (batchnorm4_1): BatchNorm2d(256, eps=1e-05, momentum=0.1, affine=True, track_running_stats=True)\n",
       "        (conv4_2): Conv2d(256, 256, kernel_size=(3, 3), stride=(1, 1), padding=(1, 1))\n",
       "        (batchnorm4_2): BatchNorm2d(256, eps=1e-05, momentum=0.1, affine=True, track_running_stats=True)\n",
       "        (conv4_3): Conv2d(256, 1024, kernel_size=(1, 1), stride=(1, 1))\n",
       "        (batchnorm4_3): BatchNorm2d(1024, eps=1e-05, momentum=0.1, affine=True, track_running_stats=True)\n",
       "      )\n",
       "      (relu): ReLU()\n",
       "    )\n",
       "    (block4_6): ResNetBlock(\n",
       "      (block): Sequential(\n",
       "        (conv4_1): Conv2d(1024, 256, kernel_size=(1, 1), stride=(1, 1))\n",
       "        (batchnorm4_1): BatchNorm2d(256, eps=1e-05, momentum=0.1, affine=True, track_running_stats=True)\n",
       "        (conv4_2): Conv2d(256, 256, kernel_size=(3, 3), stride=(1, 1), padding=(1, 1))\n",
       "        (batchnorm4_2): BatchNorm2d(256, eps=1e-05, momentum=0.1, affine=True, track_running_stats=True)\n",
       "        (conv4_3): Conv2d(256, 1024, kernel_size=(1, 1), stride=(1, 1))\n",
       "        (batchnorm4_3): BatchNorm2d(1024, eps=1e-05, momentum=0.1, affine=True, track_running_stats=True)\n",
       "      )\n",
       "      (relu): ReLU()\n",
       "    )\n",
       "  )\n",
       "  (conv5_layer): Sequential(\n",
       "    (block5_1): ResNetBlock(\n",
       "      (block): Sequential(\n",
       "        (conv5_1): Conv2d(1024, 512, kernel_size=(1, 1), stride=(1, 1))\n",
       "        (batchnorm5_1): BatchNorm2d(512, eps=1e-05, momentum=0.1, affine=True, track_running_stats=True)\n",
       "        (conv5_2): Conv2d(512, 512, kernel_size=(3, 3), stride=(2, 2), padding=(1, 1))\n",
       "        (batchnorm5_2): BatchNorm2d(512, eps=1e-05, momentum=0.1, affine=True, track_running_stats=True)\n",
       "        (conv5_3): Conv2d(512, 2048, kernel_size=(1, 1), stride=(1, 1))\n",
       "        (batchnorm5_3): BatchNorm2d(2048, eps=1e-05, momentum=0.1, affine=True, track_running_stats=True)\n",
       "      )\n",
       "      (relu): ReLU()\n",
       "      (identity_channel_scaling): Sequential(\n",
       "        (conv_scaling5): Conv2d(1024, 2048, kernel_size=(1, 1), stride=(2, 2), bias=False)\n",
       "        (batchnorm_scaling5): BatchNorm2d(2048, eps=1e-05, momentum=0.1, affine=True, track_running_stats=True)\n",
       "      )\n",
       "    )\n",
       "    (block5_2): ResNetBlock(\n",
       "      (block): Sequential(\n",
       "        (conv5_1): Conv2d(2048, 512, kernel_size=(1, 1), stride=(1, 1))\n",
       "        (batchnorm5_1): BatchNorm2d(512, eps=1e-05, momentum=0.1, affine=True, track_running_stats=True)\n",
       "        (conv5_2): Conv2d(512, 512, kernel_size=(3, 3), stride=(1, 1), padding=(1, 1))\n",
       "        (batchnorm5_2): BatchNorm2d(512, eps=1e-05, momentum=0.1, affine=True, track_running_stats=True)\n",
       "        (conv5_3): Conv2d(512, 2048, kernel_size=(1, 1), stride=(1, 1))\n",
       "        (batchnorm5_3): BatchNorm2d(2048, eps=1e-05, momentum=0.1, affine=True, track_running_stats=True)\n",
       "      )\n",
       "      (relu): ReLU()\n",
       "    )\n",
       "    (block5_3): ResNetBlock(\n",
       "      (block): Sequential(\n",
       "        (conv5_1): Conv2d(2048, 512, kernel_size=(1, 1), stride=(1, 1))\n",
       "        (batchnorm5_1): BatchNorm2d(512, eps=1e-05, momentum=0.1, affine=True, track_running_stats=True)\n",
       "        (conv5_2): Conv2d(512, 512, kernel_size=(3, 3), stride=(1, 1), padding=(1, 1))\n",
       "        (batchnorm5_2): BatchNorm2d(512, eps=1e-05, momentum=0.1, affine=True, track_running_stats=True)\n",
       "        (conv5_3): Conv2d(512, 2048, kernel_size=(1, 1), stride=(1, 1))\n",
       "        (batchnorm5_3): BatchNorm2d(2048, eps=1e-05, momentum=0.1, affine=True, track_running_stats=True)\n",
       "      )\n",
       "      (relu): ReLU()\n",
       "    )\n",
       "  )\n",
       "  (avgpool): AdaptiveAvgPool2d(output_size=(1, 1))\n",
       "  (fc): Linear(in_features=2048, out_features=2, bias=True)\n",
       ")"
      ]
     },
     "execution_count": 8,
     "metadata": {},
     "output_type": "execute_result"
    }
   ],
   "source": [
    "resnet50"
   ]
  },
  {
   "cell_type": "code",
   "execution_count": 9,
   "metadata": {},
   "outputs": [
    {
     "name": "stdout",
     "output_type": "stream",
     "text": [
      "torch.Size([4, 2])\n"
     ]
    }
   ],
   "source": [
    "# Input de prueba\n",
    "BATCH_SIZE = 4\n",
    "x : torch.tensor = torch.randn(BATCH_SIZE, 1, 224, 224)\n",
    "y : torch.tensor = resnet50(x)\n",
    "\n",
    "print(y.shape)"
   ]
  }
 ],
 "metadata": {
  "kernelspec": {
   "display_name": "venv",
   "language": "python",
   "name": "python3"
  },
  "language_info": {
   "codemirror_mode": {
    "name": "ipython",
    "version": 3
   },
   "file_extension": ".py",
   "mimetype": "text/x-python",
   "name": "python",
   "nbconvert_exporter": "python",
   "pygments_lexer": "ipython3",
   "version": "3.10.12"
  }
 },
 "nbformat": 4,
 "nbformat_minor": 2
}
