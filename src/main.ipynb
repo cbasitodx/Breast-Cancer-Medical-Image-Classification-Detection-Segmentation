{
 "cells": [
  {
   "cell_type": "markdown",
   "metadata": {},
   "source": [
    "# Classification, Segmentation and Detection of tumors in mammography medical images (mejorar)\n",
    "\n",
    "## Authors:\n",
    "- **Sebastián Kay Conde Lorenzo (correo aquí)**\n",
    "- **Jaime Capdepon Fraile (correo aquí)**\n",
    "- **Joaquín Negrete Saab (correo aquí)**\n",
    "- **Yang Liu (correo aquí)**\n",
    "- **Christian Most Tazon (correo aquí)**\n",
    "  \n",
    "## Summary:\n",
    "aquí una descripción\n",
    "\n",
    "---\n",
    "\n"
   ]
  },
  {
   "cell_type": "markdown",
   "metadata": {},
   "source": [
    "## Imports"
   ]
  },
  {
   "cell_type": "code",
   "execution_count": 2,
   "metadata": {},
   "outputs": [],
   "source": [
    "# Third library imports\n",
    "import typing\n",
    "import numpy as np\n",
    "import cv2 as cv\n",
    "import torch\n",
    "import torch.nn as nn\n",
    "\n",
    "# Custom imports\n",
    "import dir_manager\n",
    "import viewer\n",
    "import models"
   ]
  },
  {
   "cell_type": "markdown",
   "metadata": {},
   "source": [
    "## Data download\n",
    "\n",
    "Aquí deberíamos poner que los datos se descarguen de una API o bien se saquen de una BBDD (a discutir)"
   ]
  },
  {
   "cell_type": "code",
   "execution_count": null,
   "metadata": {},
   "outputs": [],
   "source": []
  },
  {
   "cell_type": "markdown",
   "metadata": {},
   "source": [
    "## Directory tree creation"
   ]
  },
  {
   "cell_type": "code",
   "execution_count": null,
   "metadata": {},
   "outputs": [],
   "source": [
    "# Crear objeto dir_manager.DirectoryManager()"
   ]
  },
  {
   "cell_type": "markdown",
   "metadata": {},
   "source": [
    "## Dataset visualization"
   ]
  },
  {
   "cell_type": "code",
   "execution_count": null,
   "metadata": {},
   "outputs": [],
   "source": [
    "# Crear objeto viewer.Visualizer()"
   ]
  }
 ],
 "metadata": {
  "kernelspec": {
   "display_name": "venv",
   "language": "python",
   "name": "python3"
  },
  "language_info": {
   "codemirror_mode": {
    "name": "ipython",
    "version": 3
   },
   "file_extension": ".py",
   "mimetype": "text/x-python",
   "name": "python",
   "nbconvert_exporter": "python",
   "pygments_lexer": "ipython3",
   "version": "3.10.12"
  }
 },
 "nbformat": 4,
 "nbformat_minor": 2
}
