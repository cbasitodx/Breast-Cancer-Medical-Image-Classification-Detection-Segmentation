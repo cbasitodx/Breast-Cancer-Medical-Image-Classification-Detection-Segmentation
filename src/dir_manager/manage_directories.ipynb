{
 "cells": [
  {
   "cell_type": "markdown",
   "metadata": {},
   "source": [
    "# Manage Directories\n",
    "\n",
    "This notebook will manage the test and train directories. It will create two new directories, \"cancer\" and \"no_cancer\", and copy the images from the original directories to the new directories.\n",
    "\n",
    "The original directories are:\n",
    "\n",
    "```cmd\n",
    ".\n",
    "├── test\n",
    "│   ├── images\n",
    "│   └── labels\n",
    "├── train\n",
    "│   ├── images\n",
    "│   └── labels\n",
    "└── valid\n",
    "    ├── images\n",
    "    └── labels\n",
    "```\n",
    "\n",
    "The new directories will be:\n",
    "\n",
    "```cmd\n",
    ".\n",
    "├── test\n",
    "│   ├── classification\n",
    "│   │   ├── cancer\n",
    "│   │   ├── no_cancer\n",
    "│   ├── images\n",
    "│   └── labels\n",
    "├── train\n",
    "│   ├── classification\n",
    "│   │   ├── cancer\n",
    "│   │   ├── no_cancer\n",
    "│   ├── images\n",
    "│   └── labels\n",
    "├── valid\n",
    "│    ├── classification\n",
    "│    │   ├── cancer   \n",
    "│    │   ├── no_cancer\n",
    "│    ├── images\n",
    "│    └── labels\n",
    "```"
   ]
  },
  {
   "cell_type": "markdown",
   "metadata": {},
   "source": [
    "## Create the new directories\n"
   ]
  },
  {
   "cell_type": "code",
   "execution_count": 1,
   "metadata": {},
   "outputs": [],
   "source": [
    "from os import mkdir\n",
    "\n",
    "\n",
    "def create_dir(path: str, directory: str) -> None:\n",
    "  new_path: str = path + directory\n",
    "\n",
    "  try:\n",
    "    mkdir(new_path)\n",
    "  except FileExistsError:\n",
    "    print(f\"Directory '{new_path}' already exists.\")\n",
    "  except PermissionError:\n",
    "    print(f\"Permission denied: Unable to create '{new_path}'.\")\n",
    "  except Exception as e:\n",
    "    print(f\"An error occurred: {e}\")"
   ]
  },
  {
   "cell_type": "markdown",
   "metadata": {},
   "source": [
    "### Create classification directories\n"
   ]
  },
  {
   "cell_type": "code",
   "execution_count": null,
   "metadata": {},
   "outputs": [],
   "source": [
    "TEST = 0\n",
    "TRAIN = 1\n",
    "VALID = 2\n",
    "\n",
    "root_paths: list[str] = [\"./dataset/test/\", \"./dataset/train/\", \"./dataset/valid/\"]\n",
    "\n",
    "# Create classification directories\n",
    "directory = \"classification\"\n",
    "\n",
    "for origin in root_paths:\n",
    "  create_dir(origin, directory)"
   ]
  },
  {
   "cell_type": "markdown",
   "metadata": {},
   "source": [
    "### Create cancer and no_cancer directories\n"
   ]
  },
  {
   "cell_type": "code",
   "execution_count": null,
   "metadata": {},
   "outputs": [],
   "source": [
    "classification_paths: list[str] = [\"./dataset/test/classification/\", \"./dataset/train/classification/\", \"./dataset/valid/classification/\"]\n",
    "\n",
    "for origin in classification_paths:\n",
    "  create_dir(origin, \"cancer\")\n",
    "  create_dir(origin, \"no_cancer\")"
   ]
  },
  {
   "cell_type": "markdown",
   "metadata": {},
   "source": [
    "## Get files\n"
   ]
  },
  {
   "cell_type": "markdown",
   "metadata": {},
   "source": [
    "Images and labels are named the same, except for the extension. The labels include if the image has cancer or not, and the bounding box. So we will use the labels to know if the image has cancer or not, and copy the images to the correct directory.  \n",
    "When getting the files, we will not get the extension, so we can use the same name for the image and label.\n"
   ]
  },
  {
   "cell_type": "code",
   "execution_count": 4,
   "metadata": {},
   "outputs": [],
   "source": [
    "from os import walk\n",
    "\n",
    "\n",
    "def get_files(path: str):\n",
    "  files: list[str] = []\n",
    "\n",
    "  for (dirpath, dirnames, filenames) in walk(path):\n",
    "    files.extend(filenames)\n",
    "    break\n",
    "\n",
    "  return files\n",
    "\n",
    "\n",
    "def remove_file_extension(file: str) -> str:\n",
    "  return file.rsplit(\".\", 1)[0]\n",
    "\n",
    "\n",
    "def get_files_names(path: str) -> list[str]:\n",
    "  return [remove_file_extension(file) for file in get_files(path)]"
   ]
  },
  {
   "cell_type": "code",
   "execution_count": 5,
   "metadata": {},
   "outputs": [],
   "source": [
    "test_files: list[str] = get_files_names(\"./dataset/test/images/\")\n",
    "train_files: list[str] = get_files_names(\"./dataset/train/images/\")\n",
    "valid_files: list[str] = get_files_names(\"./dataset/valid/images/\")\n",
    "\n",
    "files = [test_files, train_files, valid_files]"
   ]
  },
  {
   "cell_type": "markdown",
   "metadata": {},
   "source": [
    "## Process files\n",
    "\n",
    "The first char in the labels is either a 0 or a 1. If it is a 1, the image has cancer, if it is a 0, the image does not have cancer. We will use this information to copy the images to the correct directory.\n"
   ]
  },
  {
   "cell_type": "code",
   "execution_count": 6,
   "metadata": {},
   "outputs": [],
   "source": [
    "def cancer(filepath: str) -> bool:\n",
    "  with open(filepath, \"r\") as file:\n",
    "    return file.read(1) == \"1\""
   ]
  },
  {
   "cell_type": "code",
   "execution_count": null,
   "metadata": {},
   "outputs": [],
   "source": [
    "cancer_bools = []\n",
    "\n",
    "for i in range(3):\n",
    "  cancer_bools.append([cancer(root_paths[i] + \"labels/\" + file + \".txt\") for file in files[i]])"
   ]
  },
  {
   "cell_type": "markdown",
   "metadata": {},
   "source": [
    "## Copy files\n"
   ]
  },
  {
   "cell_type": "code",
   "execution_count": 9,
   "metadata": {},
   "outputs": [],
   "source": [
    "from shutil import copy2\n",
    "\n",
    "\n",
    "def copy_files(files: list[str], origin: str, destination: str, cancer_bools: list[bool]) -> None:\n",
    "  for i in range(len(files)):\n",
    "    if cancer_bools[i]:\n",
    "      copy2(f\"{origin}{files[i]}.jpg\", f\"{destination}cancer/\")\n",
    "    else:\n",
    "      copy2(f\"{origin}{files[i]}.jpg\", f\"{destination}no_cancer/\")\n",
    "\n",
    "\n",
    "for i in range(3):\n",
    "  copy_files(\n",
    "    files[i], \n",
    "    root_paths[i] + \"images/\", \n",
    "    classification_paths[i], \n",
    "    cancer_bools[i]\n",
    "  )"
   ]
  }
 ],
 "metadata": {
  "kernelspec": {
   "display_name": "venv",
   "language": "python",
   "name": "python3"
  },
  "language_info": {
   "codemirror_mode": {
    "name": "ipython",
    "version": 3
   },
   "file_extension": ".py",
   "mimetype": "text/x-python",
   "name": "python",
   "nbconvert_exporter": "python",
   "pygments_lexer": "ipython3",
   "version": "3.10.12"
  }
 },
 "nbformat": 4,
 "nbformat_minor": 2
}
